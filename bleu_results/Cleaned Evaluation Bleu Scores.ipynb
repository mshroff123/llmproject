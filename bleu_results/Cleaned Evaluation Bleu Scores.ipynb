{
 "cells": [
  {
   "cell_type": "markdown",
   "id": "0bb377f8",
   "metadata": {},
   "source": [
    "## Bleu Score Evaluation + Graphs "
   ]
  },
  {
   "cell_type": "code",
   "execution_count": 2,
   "id": "a976e24b",
   "metadata": {},
   "outputs": [
    {
     "name": "stderr",
     "output_type": "stream",
     "text": [
      "[nltk_data] Downloading package punkt to\n",
      "[nltk_data]     /Users/madelinepark/nltk_data...\n",
      "[nltk_data]   Package punkt is already up-to-date!\n"
     ]
    },
    {
     "data": {
      "text/plain": [
       "True"
      ]
     },
     "execution_count": 2,
     "metadata": {},
     "output_type": "execute_result"
    }
   ],
   "source": [
    "import pandas as pd\n",
    "import nltk\n",
    "nltk.download('punkt')"
   ]
  },
  {
   "cell_type": "code",
   "execution_count": 3,
   "id": "a00caceb",
   "metadata": {},
   "outputs": [],
   "source": [
    "from nltk.translate.bleu_score import sentence_bleu\n",
    "from nltk.tokenize import word_tokenize"
   ]
  },
  {
   "cell_type": "code",
   "execution_count": 4,
   "id": "abca6c96",
   "metadata": {},
   "outputs": [],
   "source": [
    "# Create a new data structure with 3 columns \n",
    "# Questions from expert QA, revisde answer string from that question, model generated summary from the json from Jay \n",
    "\n",
    "\n",
    "import json\n",
    "\n",
    "def parse_jsonl_for_fields(file_path, fields):\n",
    "    \"\"\"\n",
    "    Parses a JSONL file and returns dictionaries for specified fields.\n",
    "\n",
    "    :param file_path: Path to the JSONL file.\n",
    "    :param fields: List of fields to extract data for.\n",
    "    :return: A dictionary where each key is a field and the value is another dictionary\n",
    "             of question-answer pairs for that field.\n",
    "    \"\"\"\n",
    "    data = {field: {} for field in fields}\n",
    "    \n",
    "    with open(file_path, 'r') as file:\n",
    "        for line in file:\n",
    "            line_data = json.loads(line)\n",
    "            field = line_data.get('metadata', {}).get('field')\n",
    "            question = line_data.get('question')\n",
    "\n",
    "            for answer_key in line_data.get('answers', {}):\n",
    "                revised_answer = line_data['answers'][answer_key].get('revised_answer_string')\n",
    "                if field in fields and question and revised_answer:\n",
    "                    data[field][question] = revised_answer\n",
    "                    break # There is only one revised answer per question\n",
    "\n",
    "            if field in fields and question and revised_answer:\n",
    "                data[field][question] = revised_answer\n",
    "\n",
    "    return data\n",
    "\n",
    "fields_of_interest = [\"Healthcare / Medicine\", \"Law\"]\n",
    "parsed_data = parse_jsonl_for_fields('expertqa.jsonl', fields_of_interest)\n",
    "\n"
   ]
  },
  {
   "cell_type": "code",
   "execution_count": 7,
   "id": "e6cce829",
   "metadata": {},
   "outputs": [
    {
     "name": "stdout",
     "output_type": "stream",
     "text": [
      "dict_keys(['Healthcare / Medicine', 'Law'])\n"
     ]
    }
   ],
   "source": [
    "print(parsed_data.keys())\n",
    "medicine_parsed_data = parsed_data['Healthcare / Medicine']\n"
   ]
  },
  {
   "cell_type": "markdown",
   "id": "4b6acc57",
   "metadata": {},
   "source": [
    "#### Medchatbot"
   ]
  },
  {
   "cell_type": "code",
   "execution_count": 9,
   "id": "76bc2b94",
   "metadata": {},
   "outputs": [],
   "source": [
    "import json\n",
    "\n",
    "# Read the entire file into a single string\n",
    "with open('medical_chatbot.json', 'r') as file:\n",
    "    data = file.read()\n",
    "\n",
    "# Assuming that each object is properly closed, you can use a simple regex to split them\n",
    "import re\n",
    "objects = re.split(r'(?<=})', data)[:-1]  # Split and remove the last empty string\n",
    "\n",
    "# Parse each JSON object and collect into a list\n",
    "parsed_data = [json.loads(obj) for obj in objects if obj.strip()]\n",
    "# parsed_data\n",
    "combined_dict = {}\n",
    "\n",
    "# Loop through each dictionary in the list\n",
    "for dict_item in parsed_data:\n",
    "    for question, answer in dict_item.items():\n",
    "        combined_dict[question] = answer\n",
    "\n",
    "# Now `combined_dict` contains all questions as keys and answers as values\n",
    "# print(combined_dict)"
   ]
  },
  {
   "cell_type": "code",
   "execution_count": 15,
   "id": "1c83efbf",
   "metadata": {},
   "outputs": [
    {
     "name": "stderr",
     "output_type": "stream",
     "text": [
      "[nltk_data] Downloading package punkt to\n",
      "[nltk_data]     /Users/madelinepark/nltk_data...\n",
      "[nltk_data]   Package punkt is already up-to-date!\n"
     ]
    },
    {
     "data": {
      "text/plain": [
       "504"
      ]
     },
     "execution_count": 15,
     "metadata": {},
     "output_type": "execute_result"
    }
   ],
   "source": [
    "# SCALING WITH CHENCHERRY \n",
    "\n",
    "import nltk\n",
    "from nltk.translate.bleu_score import SmoothingFunction, sentence_bleu\n",
    "from nltk.tokenize import word_tokenize\n",
    "\n",
    "# Ensure you have the necessary resources\n",
    "nltk.download('punkt')\n",
    "\n",
    "# Initialize the smoothing function\n",
    "chencherry = SmoothingFunction()\n",
    "\n",
    "metric_results = {}\n",
    "for question in combined_dict.keys():\n",
    "    # Tokenize the reference and candidate texts\n",
    "    ref_tokens = word_tokenize(combined_dict[question])\n",
    "    cand_tokens = word_tokenize(medicine_parsed_data[question])\n",
    "    \n",
    "    # Calculate the BLEU score using a smoothing function\n",
    "    score = sentence_bleu([ref_tokens], cand_tokens, smoothing_function=chencherry.method1)\n",
    "    \n",
    "    # Store the result\n",
    "    metric_results[question] = score\n",
    "\n",
    "len(metric_results)"
   ]
  },
  {
   "cell_type": "code",
   "execution_count": 16,
   "id": "a65ef427",
   "metadata": {},
   "outputs": [],
   "source": [
    "# MAKE A CSV \n",
    "filename = 'smoothed_bleu_score_medicalchatbot.csv'\n",
    "# Writing to CSV\n",
    "import csv\n",
    "with open(filename, 'w', newline='') as file:\n",
    "    writer = csv.writer(file)\n",
    "    writer.writerow(['Question', 'Smooth_Bleu_Score'])  # Writing header\n",
    "    for key, value in metric_results.items():\n",
    "        writer.writerow([key, value])"
   ]
  },
  {
   "cell_type": "code",
   "execution_count": null,
   "id": "7a8e4074",
   "metadata": {},
   "outputs": [],
   "source": []
  },
  {
   "cell_type": "markdown",
   "id": "ff331892",
   "metadata": {},
   "source": [
    "#### Biomstrl"
   ]
  },
  {
   "cell_type": "code",
   "execution_count": 18,
   "id": "111f57ee",
   "metadata": {},
   "outputs": [
    {
     "data": {
      "text/plain": [
       "504"
      ]
     },
     "execution_count": 18,
     "metadata": {},
     "output_type": "execute_result"
    }
   ],
   "source": [
    "# Biomstrl code \n",
    "\n",
    "import json\n",
    "\n",
    "# Read the entire file into a single string\n",
    "with open('biomistral.json', 'r') as file:\n",
    "    data = file.read()\n",
    "\n",
    "# Assuming that each object is properly closed, you can use a simple regex to split them\n",
    "import re\n",
    "objects = re.split(r'(?<=})', data)[:-1]  # Split and remove the last empty string\n",
    "\n",
    "# Parse each JSON object and collect into a list\n",
    "parsed_data = [json.loads(obj) for obj in objects if obj.strip()]\n",
    "# parsed_data\n",
    "combined_dict = {}\n",
    "\n",
    "# Loop through each dictionary in the list\n",
    "for dict_item in parsed_data:\n",
    "    for question, answer in dict_item.items():\n",
    "        combined_dict[question] = answer\n",
    "\n",
    "\n",
    "chencherry = SmoothingFunction()\n",
    "\n",
    "biomstrl_metric_results = {}\n",
    "for question in combined_dict.keys():\n",
    "    # Tokenize the reference and candidate texts\n",
    "    ref_tokens = word_tokenize(combined_dict[question])\n",
    "    cand_tokens = word_tokenize(medicine_parsed_data[question])\n",
    "    \n",
    "    # Calculate the BLEU score using a smoothing function\n",
    "    score = sentence_bleu([ref_tokens], cand_tokens, smoothing_function=chencherry.method1)\n",
    "    \n",
    "    # Store the result\n",
    "    biomstrl_metric_results[question] = score\n",
    "\n",
    "len(biomstrl_metric_results)\n"
   ]
  },
  {
   "cell_type": "code",
   "execution_count": 19,
   "id": "2f4c4821",
   "metadata": {},
   "outputs": [],
   "source": [
    "# Writing to CSV\n",
    "import csv\n",
    "\n",
    "filename = 'smoothed_bleu_score_biomstrl.csv'\n",
    "\n",
    "with open(filename, 'w', newline='') as file:\n",
    "    writer = csv.writer(file)\n",
    "    writer.writerow(['Question', 'Smooth_Bleu_Score'])  # Writing header\n",
    "    for key, value in biomstrl_metric_results.items():\n",
    "        writer.writerow([key, value])\n"
   ]
  },
  {
   "cell_type": "code",
   "execution_count": null,
   "id": "c73e1330",
   "metadata": {},
   "outputs": [],
   "source": []
  },
  {
   "cell_type": "markdown",
   "id": "0de84d61",
   "metadata": {},
   "source": [
    "### Read in CSVS and make graphs "
   ]
  },
  {
   "cell_type": "code",
   "execution_count": 20,
   "id": "6f4fd451",
   "metadata": {},
   "outputs": [],
   "source": [
    "biomstrl = pd.read_csv('smoothed_bleu_score_biomstrl.csv')\n",
    "medchatbot = pd.read_csv('smoothed_bleu_score_medicalchatbot.csv')\n"
   ]
  },
  {
   "cell_type": "code",
   "execution_count": 21,
   "id": "ebf99fa4",
   "metadata": {},
   "outputs": [
    {
     "data": {
      "text/html": [
       "<div>\n",
       "<style scoped>\n",
       "    .dataframe tbody tr th:only-of-type {\n",
       "        vertical-align: middle;\n",
       "    }\n",
       "\n",
       "    .dataframe tbody tr th {\n",
       "        vertical-align: top;\n",
       "    }\n",
       "\n",
       "    .dataframe thead th {\n",
       "        text-align: right;\n",
       "    }\n",
       "</style>\n",
       "<table border=\"1\" class=\"dataframe\">\n",
       "  <thead>\n",
       "    <tr style=\"text-align: right;\">\n",
       "      <th></th>\n",
       "      <th>Question</th>\n",
       "      <th>Smooth_Bleu_Score</th>\n",
       "    </tr>\n",
       "  </thead>\n",
       "  <tbody>\n",
       "    <tr>\n",
       "      <th>0</th>\n",
       "      <td>What are signs and study findings that would i...</td>\n",
       "      <td>0.090495</td>\n",
       "    </tr>\n",
       "    <tr>\n",
       "      <th>1</th>\n",
       "      <td>A patient with a history of heart failure now ...</td>\n",
       "      <td>0.093564</td>\n",
       "    </tr>\n",
       "    <tr>\n",
       "      <th>2</th>\n",
       "      <td>What does research currently say regarding the...</td>\n",
       "      <td>0.069141</td>\n",
       "    </tr>\n",
       "    <tr>\n",
       "      <th>3</th>\n",
       "      <td>A patient with Ewing sarcoma of the femur is d...</td>\n",
       "      <td>0.051950</td>\n",
       "    </tr>\n",
       "    <tr>\n",
       "      <th>4</th>\n",
       "      <td>In which cases would be considered appropiate ...</td>\n",
       "      <td>0.018382</td>\n",
       "    </tr>\n",
       "  </tbody>\n",
       "</table>\n",
       "</div>"
      ],
      "text/plain": [
       "                                            Question  Smooth_Bleu_Score\n",
       "0  What are signs and study findings that would i...           0.090495\n",
       "1  A patient with a history of heart failure now ...           0.093564\n",
       "2  What does research currently say regarding the...           0.069141\n",
       "3  A patient with Ewing sarcoma of the femur is d...           0.051950\n",
       "4  In which cases would be considered appropiate ...           0.018382"
      ]
     },
     "execution_count": 21,
     "metadata": {},
     "output_type": "execute_result"
    }
   ],
   "source": [
    "biomstrl.head()"
   ]
  },
  {
   "cell_type": "code",
   "execution_count": 22,
   "id": "01530045",
   "metadata": {},
   "outputs": [
    {
     "data": {
      "text/html": [
       "<div>\n",
       "<style scoped>\n",
       "    .dataframe tbody tr th:only-of-type {\n",
       "        vertical-align: middle;\n",
       "    }\n",
       "\n",
       "    .dataframe tbody tr th {\n",
       "        vertical-align: top;\n",
       "    }\n",
       "\n",
       "    .dataframe thead th {\n",
       "        text-align: right;\n",
       "    }\n",
       "</style>\n",
       "<table border=\"1\" class=\"dataframe\">\n",
       "  <thead>\n",
       "    <tr style=\"text-align: right;\">\n",
       "      <th></th>\n",
       "      <th>Question</th>\n",
       "      <th>Smooth_Bleu_Score</th>\n",
       "    </tr>\n",
       "  </thead>\n",
       "  <tbody>\n",
       "    <tr>\n",
       "      <th>0</th>\n",
       "      <td>What are signs and study findings that would i...</td>\n",
       "      <td>0.039175</td>\n",
       "    </tr>\n",
       "    <tr>\n",
       "      <th>1</th>\n",
       "      <td>A patient with a history of heart failure now ...</td>\n",
       "      <td>0.083652</td>\n",
       "    </tr>\n",
       "    <tr>\n",
       "      <th>2</th>\n",
       "      <td>What does research currently say regarding the...</td>\n",
       "      <td>0.062602</td>\n",
       "    </tr>\n",
       "    <tr>\n",
       "      <th>3</th>\n",
       "      <td>A patient with Ewing sarcoma of the femur is d...</td>\n",
       "      <td>0.053922</td>\n",
       "    </tr>\n",
       "    <tr>\n",
       "      <th>4</th>\n",
       "      <td>In which cases would be considered appropiate ...</td>\n",
       "      <td>0.019201</td>\n",
       "    </tr>\n",
       "  </tbody>\n",
       "</table>\n",
       "</div>"
      ],
      "text/plain": [
       "                                            Question  Smooth_Bleu_Score\n",
       "0  What are signs and study findings that would i...           0.039175\n",
       "1  A patient with a history of heart failure now ...           0.083652\n",
       "2  What does research currently say regarding the...           0.062602\n",
       "3  A patient with Ewing sarcoma of the femur is d...           0.053922\n",
       "4  In which cases would be considered appropiate ...           0.019201"
      ]
     },
     "execution_count": 22,
     "metadata": {},
     "output_type": "execute_result"
    }
   ],
   "source": [
    "medchatbot.head()"
   ]
  },
  {
   "cell_type": "code",
   "execution_count": 23,
   "id": "e0248b46",
   "metadata": {},
   "outputs": [
    {
     "data": {
      "image/png": "[encoded data removed]",
      "text/plain": [
       "<Figure size 432x288 with 1 Axes>"
      ]
     },
     "metadata": {
      "needs_background": "light"
     },
     "output_type": "display_data"
    }
   ],
   "source": [
    "import matplotlib.pyplot as plt\n",
    "\n",
    "# Example data: Replace these lists with your actual BLEU scores\n",
    "bleu_scores_model_1 = medchatbot['Smooth_Bleu_Score']\n",
    "bleu_scores_model_2 = biomstrl['Smooth_Bleu_Score']\n",
    "\n",
    "data = [bleu_scores_model_1, bleu_scores_model_2]\n",
    "plt.boxplot(data, labels=['Med Chatbot', 'Biomstrl'],flierprops={'marker': 'o', 'markersize': 4, 'markerfacecolor': 'red'})\n",
    "plt.ylabel('Smoothed BLEU Scores')\n",
    "plt.title('Distribution of Smoothed BLEU Scores Across Medical Models')\n",
    "plt.show()"
   ]
  },
  {
   "cell_type": "code",
   "execution_count": null,
   "id": "eaeae7e5",
   "metadata": {},
   "outputs": [],
   "source": []
  },
  {
   "cell_type": "code",
   "execution_count": null,
   "id": "f0ed3c70",
   "metadata": {},
   "outputs": [],
   "source": []
  },
  {
   "cell_type": "markdown",
   "id": "cc36b784",
   "metadata": {},
   "source": [
    "### Adding question type to original csv and results "
   ]
  },
  {
   "cell_type": "code",
   "execution_count": 24,
   "id": "8a2cd27d",
   "metadata": {},
   "outputs": [],
   "source": [
    "def read_jsonl(filepath, limit=None, verbose=False):\n",
    "    \"\"\"Read jsonl file to a List of Dicts.\"\"\"\n",
    "    data = []\n",
    "    with open(filepath, \"r\") as jsonl_file:\n",
    "      for idx, line in enumerate(jsonl_file):\n",
    "          if limit is not None and idx >= limit:\n",
    "              break\n",
    "          if verbose and idx % 100 == 0:\n",
    "              # Print the index every 100 lines.\n",
    "              print(\"Processing line %s.\" % idx)\n",
    "          try:\n",
    "              data.append(json.loads(line))\n",
    "          except json.JSONDecodeError as e:\n",
    "              print(\"Failed to parse line: `%s`\" % line)\n",
    "              raise e\n",
    "    print(\"Loaded %s lines from %s.\" % (len(data), filepath))\n",
    "    return data"
   ]
  },
  {
   "cell_type": "code",
   "execution_count": 25,
   "id": "91e28814",
   "metadata": {},
   "outputs": [
    {
     "name": "stdout",
     "output_type": "stream",
     "text": [
      "Loaded 2177 lines from r2_compiled_anon.jsonl.\n"
     ]
    }
   ],
   "source": [
    "r2_compiled_data=read_jsonl(\"r2_compiled_anon.jsonl\")"
   ]
  },
  {
   "cell_type": "code",
   "execution_count": 26,
   "id": "77c348b1",
   "metadata": {},
   "outputs": [
    {
     "data": {
      "text/plain": [
       "{'question_type': 'Directed question that has a single unambiguous answer',\n",
       " 'field': 'Healthcare / Medicine',\n",
       " 'specific_field': 'Oncology'}"
      ]
     },
     "execution_count": 26,
     "metadata": {},
     "output_type": "execute_result"
    }
   ],
   "source": [
    "r2_compiled_data[0]['metadata']"
   ]
  },
  {
   "cell_type": "code",
   "execution_count": 27,
   "id": "54017445",
   "metadata": {},
   "outputs": [],
   "source": [
    "flattened_data = []\n",
    "count=0\n",
    "for item in r2_compiled_data:\n",
    "    question = item['question']\n",
    "    annotator_id = item['annotator_id']\n",
    "    question_type = item['metadata']['question_type']\n",
    "    specific_field = item['metadata']['specific_field']\n",
    "    # Split the question_type by '|' to create a list of question types\n",
    "    question_types = question_type.split('|')\n",
    "    question_types = [q_type.strip() for q_type in question_types]  # Strip any extra spaces\n",
    "    if len(question_types)>1:\n",
    "        count+=1\n",
    "\n",
    "    # Can add whatever additional data/metadata fields you want \n",
    "    for answer_key, answer_value in item['answers'].items():\n",
    "        answer_string = answer_value['answer_string']\n",
    "        attribution = \", \".join(answer_value['attribution'])  # Convert list to string\n",
    "        claims = \"; \".join(claim['claim_string'] for claim in answer_value['claims'])  # Join all claims into one string\n",
    "        flattened_data.append({\n",
    "            'question': question,\n",
    "            'annotator_id': annotator_id,\n",
    "            'answer_key': answer_key,\n",
    "            'answer_string': answer_string,\n",
    "            'attribution': attribution,\n",
    "            'claims': claims,\n",
    "            'question_types':question_types,\n",
    "            'specific_field': specific_field           \n",
    "            \n",
    "        })\n",
    "\n",
    "# Creating DataFrame\n",
    "full_df = pd.DataFrame(flattened_data)"
   ]
  },
  {
   "cell_type": "code",
   "execution_count": 28,
   "id": "b2ee2561",
   "metadata": {},
   "outputs": [
    {
     "name": "stdout",
     "output_type": "stream",
     "text": [
      "Index(['question', 'annotator_id', 'answer_key', 'answer_string',\n",
      "       'attribution', 'claims', 'question_types', 'specific_field'],\n",
      "      dtype='object')\n"
     ]
    },
    {
     "data": {
      "text/html": [
       "<div>\n",
       "<style scoped>\n",
       "    .dataframe tbody tr th:only-of-type {\n",
       "        vertical-align: middle;\n",
       "    }\n",
       "\n",
       "    .dataframe tbody tr th {\n",
       "        vertical-align: top;\n",
       "    }\n",
       "\n",
       "    .dataframe thead th {\n",
       "        text-align: right;\n",
       "    }\n",
       "</style>\n",
       "<table border=\"1\" class=\"dataframe\">\n",
       "  <thead>\n",
       "    <tr style=\"text-align: right;\">\n",
       "      <th></th>\n",
       "      <th>question</th>\n",
       "      <th>annotator_id</th>\n",
       "      <th>answer_key</th>\n",
       "      <th>answer_string</th>\n",
       "      <th>attribution</th>\n",
       "      <th>claims</th>\n",
       "      <th>question_types</th>\n",
       "      <th>specific_field</th>\n",
       "    </tr>\n",
       "  </thead>\n",
       "  <tbody>\n",
       "    <tr>\n",
       "      <th>0</th>\n",
       "      <td>What are signs and study findings that would i...</td>\n",
       "      <td>1</td>\n",
       "      <td>rr_gs_gpt4</td>\n",
       "      <td>Signs that might indicate a transformation of ...</td>\n",
       "      <td>[1] https://lymphoma.org/news/ask-the-doctor-h...</td>\n",
       "      <td>Signs that might indicate a transformation of ...</td>\n",
       "      <td>[Directed question that has a single unambiguo...</td>\n",
       "      <td>Oncology</td>\n",
       "    </tr>\n",
       "    <tr>\n",
       "      <th>1</th>\n",
       "      <td>A patient with a history of heart failure now ...</td>\n",
       "      <td>1</td>\n",
       "      <td>bing_chat</td>\n",
       "      <td>😊\\n\\nAccording to the web search results, the...</td>\n",
       "      <td>[1] https://www.webmd.com/breast-cancer/featur...</td>\n",
       "      <td>😊  According to the web search results, the re...</td>\n",
       "      <td>[Advice or suggestions on how to approach a pr...</td>\n",
       "      <td>Oncology</td>\n",
       "    </tr>\n",
       "    <tr>\n",
       "      <th>2</th>\n",
       "      <td>What does research currently say regarding the...</td>\n",
       "      <td>1</td>\n",
       "      <td>post_hoc_gs_gpt4</td>\n",
       "      <td>Research currently indicates that cryotherapy,...</td>\n",
       "      <td>[1] https://www.oncnursingnews.com/view/frozen...</td>\n",
       "      <td>Research currently indicates that cryotherapy,...</td>\n",
       "      <td>[Summarization of information on a topic]</td>\n",
       "      <td>Oncology</td>\n",
       "    </tr>\n",
       "    <tr>\n",
       "      <th>3</th>\n",
       "      <td>A patient with Ewing sarcoma of the femur is d...</td>\n",
       "      <td>1</td>\n",
       "      <td>post_hoc_gs_gpt4</td>\n",
       "      <td>In the case of a patient with Ewing sarcoma of...</td>\n",
       "      <td>[1] https://www.mdpi.com/2077-0383/9/8/2549, [...</td>\n",
       "      <td>In the case of a patient with Ewing sarcoma of...</td>\n",
       "      <td>[Directed question that has a single unambiguo...</td>\n",
       "      <td>Oncology</td>\n",
       "    </tr>\n",
       "    <tr>\n",
       "      <th>4</th>\n",
       "      <td>What will the impact of AI-generated musical p...</td>\n",
       "      <td>2</td>\n",
       "      <td>rr_gs_gpt4</td>\n",
       "      <td>The impact of AI-generated musical products on...</td>\n",
       "      <td>[1] https://cointelegraph.com/news/the-rise-of...</td>\n",
       "      <td>The impact of AI-generated musical products on...</td>\n",
       "      <td>[Open-ended question that is potentially ambig...</td>\n",
       "      <td>Recording and producing artist</td>\n",
       "    </tr>\n",
       "  </tbody>\n",
       "</table>\n",
       "</div>"
      ],
      "text/plain": [
       "                                            question annotator_id  \\\n",
       "0  What are signs and study findings that would i...            1   \n",
       "1  A patient with a history of heart failure now ...            1   \n",
       "2  What does research currently say regarding the...            1   \n",
       "3  A patient with Ewing sarcoma of the femur is d...            1   \n",
       "4  What will the impact of AI-generated musical p...            2   \n",
       "\n",
       "         answer_key                                      answer_string  \\\n",
       "0        rr_gs_gpt4  Signs that might indicate a transformation of ...   \n",
       "1         bing_chat   😊\\n\\nAccording to the web search results, the...   \n",
       "2  post_hoc_gs_gpt4  Research currently indicates that cryotherapy,...   \n",
       "3  post_hoc_gs_gpt4  In the case of a patient with Ewing sarcoma of...   \n",
       "4        rr_gs_gpt4  The impact of AI-generated musical products on...   \n",
       "\n",
       "                                         attribution  \\\n",
       "0  [1] https://lymphoma.org/news/ask-the-doctor-h...   \n",
       "1  [1] https://www.webmd.com/breast-cancer/featur...   \n",
       "2  [1] https://www.oncnursingnews.com/view/frozen...   \n",
       "3  [1] https://www.mdpi.com/2077-0383/9/8/2549, [...   \n",
       "4  [1] https://cointelegraph.com/news/the-rise-of...   \n",
       "\n",
       "                                              claims  \\\n",
       "0  Signs that might indicate a transformation of ...   \n",
       "1  😊  According to the web search results, the re...   \n",
       "2  Research currently indicates that cryotherapy,...   \n",
       "3  In the case of a patient with Ewing sarcoma of...   \n",
       "4  The impact of AI-generated musical products on...   \n",
       "\n",
       "                                      question_types  \\\n",
       "0  [Directed question that has a single unambiguo...   \n",
       "1  [Advice or suggestions on how to approach a pr...   \n",
       "2          [Summarization of information on a topic]   \n",
       "3  [Directed question that has a single unambiguo...   \n",
       "4  [Open-ended question that is potentially ambig...   \n",
       "\n",
       "                   specific_field  \n",
       "0                        Oncology  \n",
       "1                        Oncology  \n",
       "2                        Oncology  \n",
       "3                        Oncology  \n",
       "4  Recording and producing artist  "
      ]
     },
     "execution_count": 28,
     "metadata": {},
     "output_type": "execute_result"
    }
   ],
   "source": [
    "print(full_df.columns)\n",
    "full_df.head()"
   ]
  },
  {
   "cell_type": "code",
   "execution_count": 29,
   "id": "8e783bf3",
   "metadata": {},
   "outputs": [],
   "source": [
    "# Read in results csvs and append a column for the types \n",
    "biomstrl = pd.read_csv('smoothed_bleu_score_biomstrl.csv')\n",
    "medchatbot = pd.read_csv('smoothed_bleu_score_medicalchatbot.csv')\n",
    "new_columns = ['question', 'Smooth_Bleu_Score']\n",
    "\n",
    "# Assign new column names\n",
    "biomstrl.columns = new_columns\n",
    "medchatbot.columns = new_columns"
   ]
  },
  {
   "cell_type": "code",
   "execution_count": 30,
   "id": "2e3e10bd",
   "metadata": {},
   "outputs": [],
   "source": [
    "biomstrl_with_qtype = pd.merge(biomstrl, full_df, on='question', how='left')\n",
    "biomstrl_with_qtype=biomstrl_with_qtype.drop(columns=['annotator_id','answer_key','answer_string','attribution','claims'])\n",
    "\n",
    "\n",
    "medchatbot_with_qtype = pd.merge(medchatbot, full_df, on='question', how='left')\n",
    "medchatbot_with_qtype=medchatbot_with_qtype.drop(columns=['annotator_id','answer_key','answer_string','attribution','claims'])\n"
   ]
  },
  {
   "cell_type": "code",
   "execution_count": 31,
   "id": "2eb4d157",
   "metadata": {},
   "outputs": [
    {
     "data": {
      "text/html": [
       "<div>\n",
       "<style scoped>\n",
       "    .dataframe tbody tr th:only-of-type {\n",
       "        vertical-align: middle;\n",
       "    }\n",
       "\n",
       "    .dataframe tbody tr th {\n",
       "        vertical-align: top;\n",
       "    }\n",
       "\n",
       "    .dataframe thead th {\n",
       "        text-align: right;\n",
       "    }\n",
       "</style>\n",
       "<table border=\"1\" class=\"dataframe\">\n",
       "  <thead>\n",
       "    <tr style=\"text-align: right;\">\n",
       "      <th></th>\n",
       "      <th>question</th>\n",
       "      <th>Smooth_Bleu_Score</th>\n",
       "      <th>question_types</th>\n",
       "      <th>specific_field</th>\n",
       "    </tr>\n",
       "  </thead>\n",
       "  <tbody>\n",
       "    <tr>\n",
       "      <th>0</th>\n",
       "      <td>What are signs and study findings that would i...</td>\n",
       "      <td>0.090495</td>\n",
       "      <td>[Directed question that has a single unambiguo...</td>\n",
       "      <td>Oncology</td>\n",
       "    </tr>\n",
       "    <tr>\n",
       "      <th>1</th>\n",
       "      <td>A patient with a history of heart failure now ...</td>\n",
       "      <td>0.093564</td>\n",
       "      <td>[Advice or suggestions on how to approach a pr...</td>\n",
       "      <td>Oncology</td>\n",
       "    </tr>\n",
       "    <tr>\n",
       "      <th>2</th>\n",
       "      <td>What does research currently say regarding the...</td>\n",
       "      <td>0.069141</td>\n",
       "      <td>[Summarization of information on a topic]</td>\n",
       "      <td>Oncology</td>\n",
       "    </tr>\n",
       "    <tr>\n",
       "      <th>3</th>\n",
       "      <td>A patient with Ewing sarcoma of the femur is d...</td>\n",
       "      <td>0.051950</td>\n",
       "      <td>[Directed question that has a single unambiguo...</td>\n",
       "      <td>Oncology</td>\n",
       "    </tr>\n",
       "    <tr>\n",
       "      <th>4</th>\n",
       "      <td>In which cases would be considered appropiate ...</td>\n",
       "      <td>0.018382</td>\n",
       "      <td>[Open-ended question that is potentially ambig...</td>\n",
       "      <td>General Physician</td>\n",
       "    </tr>\n",
       "  </tbody>\n",
       "</table>\n",
       "</div>"
      ],
      "text/plain": [
       "                                            question  Smooth_Bleu_Score  \\\n",
       "0  What are signs and study findings that would i...           0.090495   \n",
       "1  A patient with a history of heart failure now ...           0.093564   \n",
       "2  What does research currently say regarding the...           0.069141   \n",
       "3  A patient with Ewing sarcoma of the femur is d...           0.051950   \n",
       "4  In which cases would be considered appropiate ...           0.018382   \n",
       "\n",
       "                                      question_types     specific_field  \n",
       "0  [Directed question that has a single unambiguo...           Oncology  \n",
       "1  [Advice or suggestions on how to approach a pr...           Oncology  \n",
       "2          [Summarization of information on a topic]           Oncology  \n",
       "3  [Directed question that has a single unambiguo...           Oncology  \n",
       "4  [Open-ended question that is potentially ambig...  General Physician  "
      ]
     },
     "execution_count": 31,
     "metadata": {},
     "output_type": "execute_result"
    }
   ],
   "source": [
    "biomstrl_with_qtype.head()\n"
   ]
  },
  {
   "cell_type": "code",
   "execution_count": 32,
   "id": "988d115b",
   "metadata": {},
   "outputs": [
    {
     "data": {
      "text/html": [
       "<div>\n",
       "<style scoped>\n",
       "    .dataframe tbody tr th:only-of-type {\n",
       "        vertical-align: middle;\n",
       "    }\n",
       "\n",
       "    .dataframe tbody tr th {\n",
       "        vertical-align: top;\n",
       "    }\n",
       "\n",
       "    .dataframe thead th {\n",
       "        text-align: right;\n",
       "    }\n",
       "</style>\n",
       "<table border=\"1\" class=\"dataframe\">\n",
       "  <thead>\n",
       "    <tr style=\"text-align: right;\">\n",
       "      <th></th>\n",
       "      <th>question</th>\n",
       "      <th>Smooth_Bleu_Score</th>\n",
       "      <th>question_types</th>\n",
       "      <th>specific_field</th>\n",
       "    </tr>\n",
       "  </thead>\n",
       "  <tbody>\n",
       "    <tr>\n",
       "      <th>0</th>\n",
       "      <td>What are signs and study findings that would i...</td>\n",
       "      <td>0.039175</td>\n",
       "      <td>[Directed question that has a single unambiguo...</td>\n",
       "      <td>Oncology</td>\n",
       "    </tr>\n",
       "    <tr>\n",
       "      <th>1</th>\n",
       "      <td>A patient with a history of heart failure now ...</td>\n",
       "      <td>0.083652</td>\n",
       "      <td>[Advice or suggestions on how to approach a pr...</td>\n",
       "      <td>Oncology</td>\n",
       "    </tr>\n",
       "    <tr>\n",
       "      <th>2</th>\n",
       "      <td>What does research currently say regarding the...</td>\n",
       "      <td>0.062602</td>\n",
       "      <td>[Summarization of information on a topic]</td>\n",
       "      <td>Oncology</td>\n",
       "    </tr>\n",
       "    <tr>\n",
       "      <th>3</th>\n",
       "      <td>A patient with Ewing sarcoma of the femur is d...</td>\n",
       "      <td>0.053922</td>\n",
       "      <td>[Directed question that has a single unambiguo...</td>\n",
       "      <td>Oncology</td>\n",
       "    </tr>\n",
       "    <tr>\n",
       "      <th>4</th>\n",
       "      <td>In which cases would be considered appropiate ...</td>\n",
       "      <td>0.019201</td>\n",
       "      <td>[Open-ended question that is potentially ambig...</td>\n",
       "      <td>General Physician</td>\n",
       "    </tr>\n",
       "  </tbody>\n",
       "</table>\n",
       "</div>"
      ],
      "text/plain": [
       "                                            question  Smooth_Bleu_Score  \\\n",
       "0  What are signs and study findings that would i...           0.039175   \n",
       "1  A patient with a history of heart failure now ...           0.083652   \n",
       "2  What does research currently say regarding the...           0.062602   \n",
       "3  A patient with Ewing sarcoma of the femur is d...           0.053922   \n",
       "4  In which cases would be considered appropiate ...           0.019201   \n",
       "\n",
       "                                      question_types     specific_field  \n",
       "0  [Directed question that has a single unambiguo...           Oncology  \n",
       "1  [Advice or suggestions on how to approach a pr...           Oncology  \n",
       "2          [Summarization of information on a topic]           Oncology  \n",
       "3  [Directed question that has a single unambiguo...           Oncology  \n",
       "4  [Open-ended question that is potentially ambig...  General Physician  "
      ]
     },
     "execution_count": 32,
     "metadata": {},
     "output_type": "execute_result"
    }
   ],
   "source": [
    "medchatbot_with_qtype.head()"
   ]
  },
  {
   "cell_type": "code",
   "execution_count": null,
   "id": "68f9e5ee",
   "metadata": {},
   "outputs": [],
   "source": []
  },
  {
   "cell_type": "code",
   "execution_count": 33,
   "id": "8870f64b",
   "metadata": {},
   "outputs": [],
   "source": [
    "# DOWNLOAD CSVS WITH THE FIELD AND QUESTION TYPES \n",
    "biomstrl_with_qtype.to_csv('biomstrl_with_qtype_field_smoothed_scores.csv', index=False)\n",
    "\n",
    "medchatbot_with_qtype.to_csv('medchatbot_with_qtype_field_smoothed_scores.csv', index=False)"
   ]
  },
  {
   "cell_type": "code",
   "execution_count": null,
   "id": "fcf63b88",
   "metadata": {},
   "outputs": [],
   "source": []
  },
  {
   "cell_type": "code",
   "execution_count": null,
   "id": "6dc11075",
   "metadata": {},
   "outputs": [],
   "source": []
  },
  {
   "cell_type": "markdown",
   "id": "385e189d",
   "metadata": {},
   "source": [
    "### Make graphs for question type and field "
   ]
  },
  {
   "cell_type": "code",
   "execution_count": 42,
   "id": "01743a82",
   "metadata": {},
   "outputs": [],
   "source": [
    "# Make graphs \n",
    "import pandas as pd\n",
    "import matplotlib.pyplot as plt\n",
    "import seaborn as sns\n",
    "import ast"
   ]
  },
  {
   "cell_type": "code",
   "execution_count": 47,
   "id": "ace5effb",
   "metadata": {},
   "outputs": [
    {
     "name": "stdout",
     "output_type": "stream",
     "text": [
      "<class 'list'>\n",
      "                                            question  Smooth_Bleu_Score  \\\n",
      "0  What are signs and study findings that would i...           0.090495   \n",
      "1  A patient with a history of heart failure now ...           0.093564   \n",
      "1  A patient with a history of heart failure now ...           0.093564   \n",
      "1  A patient with a history of heart failure now ...           0.093564   \n",
      "2  What does research currently say regarding the...           0.069141   \n",
      "\n",
      "                                      question_types specific_field  \n",
      "0  Directed question that has a single unambiguou...       Oncology  \n",
      "1  Advice or suggestions on how to approach a pro...       Oncology  \n",
      "1  Question that describes a hypothetical scenari...       Oncology  \n",
      "1                     Request for opinion on a topic       Oncology  \n",
      "2            Summarization of information on a topic       Oncology  \n"
     ]
    },
    {
     "data": {
      "text/plain": [
       "682"
      ]
     },
     "execution_count": 47,
     "metadata": {},
     "output_type": "execute_result"
    }
   ],
   "source": [
    "print(type(biomstrl_with_qtype['question_types'].iloc[0]))\n",
    "biomstrl_with_qtype_exploded_df = biomstrl_with_qtype.explode('question_types')\n",
    "print(biomstrl_with_qtype_exploded_df.head())\n",
    "len(biomstrl_with_qtype_exploded_df)"
   ]
  },
  {
   "cell_type": "code",
   "execution_count": 49,
   "id": "7910bd95",
   "metadata": {},
   "outputs": [
    {
     "name": "stdout",
     "output_type": "stream",
     "text": [
      "<class 'list'>\n",
      "                                            question  Smooth_Bleu_Score  \\\n",
      "0  What are signs and study findings that would i...           0.039175   \n",
      "1  A patient with a history of heart failure now ...           0.083652   \n",
      "1  A patient with a history of heart failure now ...           0.083652   \n",
      "1  A patient with a history of heart failure now ...           0.083652   \n",
      "2  What does research currently say regarding the...           0.062602   \n",
      "\n",
      "                                      question_types specific_field  \n",
      "0  Directed question that has a single unambiguou...       Oncology  \n",
      "1  Advice or suggestions on how to approach a pro...       Oncology  \n",
      "1  Question that describes a hypothetical scenari...       Oncology  \n",
      "1                     Request for opinion on a topic       Oncology  \n",
      "2            Summarization of information on a topic       Oncology  \n"
     ]
    },
    {
     "data": {
      "text/plain": [
       "682"
      ]
     },
     "execution_count": 49,
     "metadata": {},
     "output_type": "execute_result"
    }
   ],
   "source": [
    "print(type(medchatbot_with_qtype['question_types'].iloc[0]))\n",
    "medchatbot_with_qtype_exploded_df = medchatbot_with_qtype.explode('question_types')\n",
    "print(medchatbot_with_qtype_exploded_df.head())\n",
    "len(medchatbot_with_qtype_exploded_df)"
   ]
  },
  {
   "cell_type": "code",
   "execution_count": 52,
   "id": "17b7a62a",
   "metadata": {
    "scrolled": false
   },
   "outputs": [
    {
     "data": {
      "image/png": "[encoded data removed]",
      "text/plain": [
       "<Figure size 1440x432 with 1 Axes>"
      ]
     },
     "metadata": {
      "needs_background": "light"
     },
     "output_type": "display_data"
    }
   ],
   "source": [
    "plt.figure(figsize=(20, 6))\n",
    "sns.boxplot(x='question_types', y='Smooth_Bleu_Score', data=biomstrl_with_qtype_exploded_df)\n",
    "plt.title('Smooth Blue Score Distribution by Question Type for Biomstrl')\n",
    "plt.xlabel('Question Type')\n",
    "plt.ylabel('Smooth Bleu Score')\n",
    "plt.xticks(rotation=45)\n",
    "plt.show()"
   ]
  },
  {
   "cell_type": "code",
   "execution_count": 55,
   "id": "c7622d1c",
   "metadata": {},
   "outputs": [
    {
     "data": {
      "image/png": "[encoded data removed]",
      "text/plain": [
       "<Figure size 1440x432 with 1 Axes>"
      ]
     },
     "metadata": {
      "needs_background": "light"
     },
     "output_type": "display_data"
    }
   ],
   "source": [
    "# Same thing for med chatbot\n",
    "medchatbot_with_qtype_exploded_df = medchatbot_with_qtype.explode('question_types')\n",
    "\n",
    "plt.figure(figsize=(20, 6))\n",
    "sns.boxplot(x='question_types', y='Smooth_Bleu_Score', data=medchatbot_with_qtype_exploded_df)\n",
    "plt.title('Smooth Blue Score Distribution by Question Type for Medchatbot')\n",
    "plt.xlabel('Question Type')\n",
    "plt.ylabel('Smooth Bleu Score')\n",
    "plt.xticks(rotation=45)\n",
    "plt.show()"
   ]
  },
  {
   "cell_type": "code",
   "execution_count": null,
   "id": "87ec1a9a",
   "metadata": {},
   "outputs": [],
   "source": []
  },
  {
   "cell_type": "markdown",
   "id": "8a142b1e",
   "metadata": {},
   "source": [
    "### Specific field graphs\n",
    "\n"
   ]
  },
  {
   "cell_type": "markdown",
   "id": "885f0fa8",
   "metadata": {},
   "source": [
    "We need to condense the specific field because there is a lot of trivial overlap"
   ]
  },
  {
   "cell_type": "code",
   "execution_count": 56,
   "id": "cc3fa814",
   "metadata": {
    "scrolled": true
   },
   "outputs": [
    {
     "data": {
      "text/plain": [
       "{'Aesthetic',\n",
       " 'Ambulance ',\n",
       " 'Audiologist',\n",
       " 'Audiology',\n",
       " 'Biochemistry',\n",
       " 'Biomedical Research, Nursing',\n",
       " 'Biomedical Science ',\n",
       " 'Biomedical engineering. Main area of work is developing primary health care equipment.',\n",
       " 'Biomedical technologist',\n",
       " 'Cardiology',\n",
       " 'Care home',\n",
       " 'Care worker',\n",
       " 'Casualty Nurse',\n",
       " 'Chemistry in the clinical area',\n",
       " 'Clinical Laboratory',\n",
       " 'Clinical Psychologist',\n",
       " 'Clinical Psychology',\n",
       " 'Clinical Research',\n",
       " 'Clinical pharmacology and pharmacovigilance',\n",
       " 'Critical care',\n",
       " 'Dementia ',\n",
       " 'Dentistry',\n",
       " 'Dermatology',\n",
       " 'Dietician/ Nutritionist ',\n",
       " 'Dispensery',\n",
       " 'Doctor of Medicine',\n",
       " 'Emergency Medicine',\n",
       " 'Emergency Paediatrics',\n",
       " 'Emergency Planning',\n",
       " 'Family Medicine',\n",
       " 'Family Medicine ',\n",
       " 'Family medicine',\n",
       " 'Family medicine ',\n",
       " 'General',\n",
       " 'General Medicine ',\n",
       " 'General Physician',\n",
       " 'General medical',\n",
       " 'General medicine',\n",
       " 'General medicine ',\n",
       " 'General practitioner ',\n",
       " 'Generalist physician',\n",
       " 'Haematology',\n",
       " 'Healthcare ',\n",
       " 'I am a nursing and dentistry teacher',\n",
       " 'Image guided therapy ',\n",
       " 'Intensive Care',\n",
       " 'Internal medicine',\n",
       " 'Laboratory medicine',\n",
       " 'Learning Disabilities',\n",
       " 'Medical Primary Care ',\n",
       " 'Medical devices',\n",
       " 'Midwifery',\n",
       " 'Molecular Microbiology',\n",
       " 'Neurology',\n",
       " 'Neurology ',\n",
       " 'Neuroscience researcher',\n",
       " 'Nursing',\n",
       " 'Occupational Health, Environment and Safety',\n",
       " 'Occupational Therapy',\n",
       " 'Oncology',\n",
       " 'Oncology ',\n",
       " 'Oncology Pharmacist ',\n",
       " 'Orthopedics and Physiotherapist',\n",
       " 'Paediatrics',\n",
       " 'Patient Safety',\n",
       " 'Pediatrician',\n",
       " 'Pediatrics',\n",
       " 'Pharmaceutical industry',\n",
       " 'Pharmacist',\n",
       " 'Pharmacist ',\n",
       " 'Pharmacy',\n",
       " 'Pharmacy ',\n",
       " 'Pharmacy field',\n",
       " 'Physical Medicine and Rehabilitation also COVID patients',\n",
       " 'Physiotherapy',\n",
       " 'Primary care',\n",
       " 'Prosthetists',\n",
       " 'Psychiatric Healthcare',\n",
       " 'Psychiatry',\n",
       " 'Psychiatry ',\n",
       " 'Psychology',\n",
       " 'Psychotherapy',\n",
       " 'Radiology',\n",
       " 'Research scientist',\n",
       " 'Sales rep in medicines',\n",
       " 'Speech and Language Therapy',\n",
       " \"Speech and Language Therapy - children's therapy\",\n",
       " 'Substance misuse ',\n",
       " 'Support Work',\n",
       " 'Surgeon',\n",
       " 'Virologist',\n",
       " 'Virology',\n",
       " 'acute medicine',\n",
       " 'biomedical science',\n",
       " 'dentist',\n",
       " 'internal medicine',\n",
       " 'medical profesional based in family medicine',\n",
       " 'medical research, clinical studies',\n",
       " 'midwifery',\n",
       " 'nurse ',\n",
       " 'oncology',\n",
       " 'pharmacist',\n",
       " 'psychiatrist',\n",
       " 'psychology',\n",
       " 'registered nurse in trauma',\n",
       " 'social worker'}"
      ]
     },
     "execution_count": 56,
     "metadata": {},
     "output_type": "execute_result"
    }
   ],
   "source": [
    "set(biomstrl_with_qtype['specific_field'])"
   ]
  },
  {
   "cell_type": "code",
   "execution_count": 59,
   "id": "e53ec7a4",
   "metadata": {},
   "outputs": [],
   "source": [
    "# Clean specific fields because there is overlap \n",
    "category_map = {\n",
    "    'Oncology': ['Oncology', 'Oncology Pharmacist', 'oncology'],\n",
    "    'Pharmacy': ['Pharmacist', 'Pharmacy', 'Pharmacy field', 'pharmacist', 'Dispensery'],\n",
    "    'Psychology/Psychiatry': ['Clinical Psychologist', 'Psychiatry', 'Psychology', 'Psychotherapy', 'psychiatrist', 'psychology'],\n",
    "    'Nursing/Midwifery': ['Nursing', 'Midwifery', 'Casualty Nurse', 'Critical care', 'nurse ', 'registered nurse in trauma', 'midwifery'],\n",
    "    'Medicine/Surgery': ['General medicine', 'General Medicine', 'General practitioner', 'Doctor of Medicine', 'Surgeon', 'Emergency Medicine', 'Internal medicine', 'internal medicine', 'Pediatrician', 'General Physician', 'General medical'],\n",
    "    'Cardiology': ['Cardiology'],\n",
    "    'Neurology': ['Neurology', 'Neuroscience researcher'],\n",
    "    'Clinical Research': ['Clinical Research', 'Medical research, clinical studies', 'Research scientist'],\n",
    "    'Dentistry': ['Dentistry', 'dentist'],\n",
    "    'Biomedical Engineering/Science': ['Biomedical Science', 'Biomedical engineering. Main area of work is developing primary health care equipment.', 'Biomedical technologist', 'biomedical science'],\n",
    "    'Allied Health': ['Audiologist', 'Audiology', 'Dietician/ Nutritionist', 'Occupational Therapy', 'Physiotherapy', 'Speech and Language Therapy'],\n",
    "    'Radiology': ['Radiology'],\n",
    "    'Public Health/Safety': ['Emergency Planning', 'Patient Safety', 'Occupational Health, Environment and Safety'],\n",
    "    'Healthcare Support': ['Care worker', 'Support Work', 'social worker'],\n",
    "    'Others': ['General', 'Healthcare', 'Pharmaceutical industry', 'Sales rep in medicines']\n",
    "}\n",
    "\n",
    "# Create a function to map each field to its broad category\n",
    "def map_to_category(field):\n",
    "    for category, keywords in category_map.items():\n",
    "        if field in keywords:\n",
    "            return category\n",
    "    return 'Others'\n"
   ]
  },
  {
   "cell_type": "code",
   "execution_count": null,
   "id": "14125d39",
   "metadata": {},
   "outputs": [],
   "source": [
    "\n",
    "# Apply the mapping function to create a new column\n",
    "biomstrl_with_qtype['broad_field'] = biomstrl_with_qtype['specific_field'].apply(map_to_category)\n",
    "\n",
    "biomstrl_with_qtype.head()"
   ]
  },
  {
   "cell_type": "code",
   "execution_count": 58,
   "id": "02ccd9f2",
   "metadata": {},
   "outputs": [
    {
     "data": {
      "image/png": "[encoded data removed]",
      "text/plain": [
       "<Figure size 1440x432 with 1 Axes>"
      ]
     },
     "metadata": {
      "needs_background": "light"
     },
     "output_type": "display_data"
    }
   ],
   "source": [
    "plt.figure(figsize=(20, 6))\n",
    "sns.boxplot(x='broad_field', y='Smooth_Bleu_Score', data=biomstrl_with_qtype)\n",
    "plt.title('Blue Score Distribution by Specific Field for Biomstrl')\n",
    "plt.xlabel('Broad Field')\n",
    "plt.ylabel('Smoothed Bleu Score')\n",
    "plt.xticks(rotation=45)\n",
    "plt.show()"
   ]
  },
  {
   "cell_type": "code",
   "execution_count": null,
   "id": "ceaf9b4a",
   "metadata": {},
   "outputs": [],
   "source": []
  },
  {
   "cell_type": "code",
   "execution_count": 60,
   "id": "bd816785",
   "metadata": {},
   "outputs": [
    {
     "data": {
      "text/html": [
       "<div>\n",
       "<style scoped>\n",
       "    .dataframe tbody tr th:only-of-type {\n",
       "        vertical-align: middle;\n",
       "    }\n",
       "\n",
       "    .dataframe tbody tr th {\n",
       "        vertical-align: top;\n",
       "    }\n",
       "\n",
       "    .dataframe thead th {\n",
       "        text-align: right;\n",
       "    }\n",
       "</style>\n",
       "<table border=\"1\" class=\"dataframe\">\n",
       "  <thead>\n",
       "    <tr style=\"text-align: right;\">\n",
       "      <th></th>\n",
       "      <th>question</th>\n",
       "      <th>Smooth_Bleu_Score</th>\n",
       "      <th>question_types</th>\n",
       "      <th>specific_field</th>\n",
       "      <th>broad_field</th>\n",
       "    </tr>\n",
       "  </thead>\n",
       "  <tbody>\n",
       "    <tr>\n",
       "      <th>0</th>\n",
       "      <td>What are signs and study findings that would i...</td>\n",
       "      <td>0.039175</td>\n",
       "      <td>[Directed question that has a single unambiguo...</td>\n",
       "      <td>Oncology</td>\n",
       "      <td>Oncology</td>\n",
       "    </tr>\n",
       "    <tr>\n",
       "      <th>1</th>\n",
       "      <td>A patient with a history of heart failure now ...</td>\n",
       "      <td>0.083652</td>\n",
       "      <td>[Advice or suggestions on how to approach a pr...</td>\n",
       "      <td>Oncology</td>\n",
       "      <td>Oncology</td>\n",
       "    </tr>\n",
       "    <tr>\n",
       "      <th>2</th>\n",
       "      <td>What does research currently say regarding the...</td>\n",
       "      <td>0.062602</td>\n",
       "      <td>[Summarization of information on a topic]</td>\n",
       "      <td>Oncology</td>\n",
       "      <td>Oncology</td>\n",
       "    </tr>\n",
       "    <tr>\n",
       "      <th>3</th>\n",
       "      <td>A patient with Ewing sarcoma of the femur is d...</td>\n",
       "      <td>0.053922</td>\n",
       "      <td>[Directed question that has a single unambiguo...</td>\n",
       "      <td>Oncology</td>\n",
       "      <td>Oncology</td>\n",
       "    </tr>\n",
       "    <tr>\n",
       "      <th>4</th>\n",
       "      <td>In which cases would be considered appropiate ...</td>\n",
       "      <td>0.019201</td>\n",
       "      <td>[Open-ended question that is potentially ambig...</td>\n",
       "      <td>General Physician</td>\n",
       "      <td>Medicine/Surgery</td>\n",
       "    </tr>\n",
       "  </tbody>\n",
       "</table>\n",
       "</div>"
      ],
      "text/plain": [
       "                                            question  Smooth_Bleu_Score  \\\n",
       "0  What are signs and study findings that would i...           0.039175   \n",
       "1  A patient with a history of heart failure now ...           0.083652   \n",
       "2  What does research currently say regarding the...           0.062602   \n",
       "3  A patient with Ewing sarcoma of the femur is d...           0.053922   \n",
       "4  In which cases would be considered appropiate ...           0.019201   \n",
       "\n",
       "                                      question_types     specific_field  \\\n",
       "0  [Directed question that has a single unambiguo...           Oncology   \n",
       "1  [Advice or suggestions on how to approach a pr...           Oncology   \n",
       "2          [Summarization of information on a topic]           Oncology   \n",
       "3  [Directed question that has a single unambiguo...           Oncology   \n",
       "4  [Open-ended question that is potentially ambig...  General Physician   \n",
       "\n",
       "        broad_field  \n",
       "0          Oncology  \n",
       "1          Oncology  \n",
       "2          Oncology  \n",
       "3          Oncology  \n",
       "4  Medicine/Surgery  "
      ]
     },
     "execution_count": 60,
     "metadata": {},
     "output_type": "execute_result"
    }
   ],
   "source": [
    "\n",
    "# Apply the mapping function to create a new column\n",
    "medchatbot_with_qtype['broad_field'] = medchatbot_with_qtype['specific_field'].apply(map_to_category)\n",
    "\n",
    "medchatbot_with_qtype.head()"
   ]
  },
  {
   "cell_type": "code",
   "execution_count": 61,
   "id": "d42d44ed",
   "metadata": {},
   "outputs": [
    {
     "data": {
      "image/png": "[encoded data removed]",
      "text/plain": [
       "<Figure size 1440x432 with 1 Axes>"
      ]
     },
     "metadata": {
      "needs_background": "light"
     },
     "output_type": "display_data"
    }
   ],
   "source": [
    "plt.figure(figsize=(20, 6))\n",
    "sns.boxplot(x='broad_field', y='Smooth_Bleu_Score', data=medchatbot_with_qtype)\n",
    "plt.title('Blue Score Distribution by Specific Field for Medchatbot')\n",
    "plt.xlabel('Broad Field')\n",
    "plt.ylabel('Smoothed Bleu Score')\n",
    "plt.xticks(rotation=45)\n",
    "plt.show()"
   ]
  },
  {
   "cell_type": "code",
   "execution_count": null,
   "id": "89c8ac7a",
   "metadata": {},
   "outputs": [],
   "source": []
  },
  {
   "cell_type": "code",
   "execution_count": null,
   "id": "c4bf0387",
   "metadata": {},
   "outputs": [],
   "source": []
  },
  {
   "cell_type": "code",
   "execution_count": null,
   "id": "1ae17177",
   "metadata": {},
   "outputs": [],
   "source": []
  }
 ],
 "metadata": {
  "kernelspec": {
   "display_name": "Python 3 (ipykernel)",
   "language": "python",
   "name": "python3"
  },
  "language_info": {
   "codemirror_mode": {
    "name": "ipython",
    "version": 3
   },
   "file_extension": ".py",
   "mimetype": "text/x-python",
   "name": "python",
   "nbconvert_exporter": "python",
   "pygments_lexer": "ipython3",
   "version": "3.9.18"
  }
 },
 "nbformat": 4,
 "nbformat_minor": 5
}
